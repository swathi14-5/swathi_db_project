{
 "cells": [
  {
   "cell_type": "code",
   "execution_count": 7,
   "metadata": {},
   "outputs": [],
   "source": [
    "import sqlite3\n",
    "conn=sqlite3.connect(\"ecommerce.dat\")\n",
    "cur=conn.cursor()"
   ]
  },
  {
   "cell_type": "code",
   "execution_count": 31,
   "metadata": {},
   "outputs": [
    {
     "data": {
      "text/plain": [
       "[(100,\n",
       "  'Anita',\n",
       "  'Anita_123',\n",
       "  'Anita@123',\n",
       "  'Dno:123,sunshine apartments, Hyderabad',\n",
       "  9977998800),\n",
       " (101,\n",
       "  'Bunty',\n",
       "  'Bun_123',\n",
       "  'Bun@123',\n",
       "  'Dno:456,Moonlight apartments, Hyderabad',\n",
       "  9000089769),\n",
       " (102,\n",
       "  'Cyathy',\n",
       "  'Cyat_123',\n",
       "  'Cyat@123',\n",
       "  'Dno:111,Divya apartments, Hyderabad',\n",
       "  8897654321)]"
      ]
     },
     "execution_count": 31,
     "metadata": {},
     "output_type": "execute_result"
    }
   ],
   "source": [
    "#Customerstable:\n",
    "\n",
    "cur.execute(\"Create table customers(customer_id INT primarykey,name varchar(20),username varchar(10),password varchar(10),address Text,phone_num INT)\"\n",
    "        )\n",
    "cur.execute(\"Insert into customers values(100,'Anita','Anita_123','Anita@123','Dno:123,sunshine apartments, Hyderabad',9977998800)\"\n",
    "       )\n",
    "cur.execute(\"Insert into customers values(101,'Bunty','Bun_123','Bun@123','Dno:456,Moonlight apartments, Hyderabad',9000089769)\"\n",
    "        )\n",
    "cur.execute(\"Insert into customers values(102,'Cyathy','Cyat_123','Cyat@123','Dno:111,Divya apartments, Hyderabad',8897654321)\"\n",
    "        )\n",
    "res=cur.execute(\"select * from customers\")\n",
    "res.fetchall()"
   ]
  },
  {
   "cell_type": "code",
   "execution_count": 44,
   "metadata": {},
   "outputs": [
    {
     "data": {
      "text/plain": [
       "[(11,\n",
       "  'Deepak_stores',\n",
       "  'Dno:123,sunshine apartments, Hyderabad',\n",
       "  9977998800,\n",
       "  None),\n",
       " (12,\n",
       "  'Fathima_stores',\n",
       "  'Dno:111,Divya apartments, Hyderabad',\n",
       "  8897654321,\n",
       "  None)]"
      ]
     },
     "execution_count": 44,
     "metadata": {},
     "output_type": "execute_result"
    }
   ],
   "source": [
    "#Vendorstable\n",
    "cur.execute(\"Create table vendors(vendor_id INT primarykey,store_name varchar(20),address Text,phone_num INT)\")\n",
    "cur.execute(\"Insert into vendors values(11,'Deepak_stores', 'Dno:123,sunshine apartments, Hyderabad',9977998800)\"\n",
    "       )\n",
    "cur.execute(\"Insert into vendors values(12,'Fathima_stores', 'Dno:111,Divya apartments, Hyderabad',8897654321)\"\n",
    "      )\n",
    "cur.execute(\"Alter table vendors add column customers_id INT References customers(customer_id)\")\n",
    "\n",
    "res=cur.execute(\"select * from vendors\")\n",
    "res.fetchall()"
   ]
  },
  {
   "cell_type": "code",
   "execution_count": 48,
   "metadata": {},
   "outputs": [
    {
     "data": {
      "text/plain": [
       "[(11,\n",
       "  'Deepak_stores',\n",
       "  'Dno:123,sunshine apartments, Hyderabad',\n",
       "  9977998800,\n",
       "  100),\n",
       " (12,\n",
       "  'Fathima_stores',\n",
       "  'Dno:111,Divya apartments, Hyderabad',\n",
       "  8897654321,\n",
       "  102)]"
      ]
     },
     "execution_count": 48,
     "metadata": {},
     "output_type": "execute_result"
    }
   ],
   "source": [
    "#to obtain relationship between vendor and customer, I made customers_id as foreignkey\n",
    "cur.execute(\"update vendors set customers_id=100 where vendor_id=11\")\n",
    "cur.execute(\"update vendors set customers_id=102 where vendor_id=12\")\n",
    "res=cur.execute(\"select * from vendors\")\n",
    "res.fetchall()"
   ]
  },
  {
   "cell_type": "code",
   "execution_count": 13,
   "metadata": {},
   "outputs": [],
   "source": [
    "conn.commit()"
   ]
  },
  {
   "cell_type": "code",
   "execution_count": 67,
   "metadata": {},
   "outputs": [
    {
     "data": {
      "text/plain": [
       "[(1, 'Laptop', 'HP', 1500, 25000.0),\n",
       " (2, 'Laptop', 'Lenovo', 1500, 35000.0),\n",
       " (3, 'Laptop', 'Dell', 1000, 15000.0),\n",
       " (4, 'Mobile', 'Oneplus', 100, 35000.0),\n",
       " (5, 'Mobile', 'Samsung', 100, 25000.0)]"
      ]
     },
     "execution_count": 67,
     "metadata": {},
     "output_type": "execute_result"
    }
   ],
   "source": [
    "#Itemstable\n",
    "cur.execute(\"Create table items(item_id INT primarykey,Item_name Text,Item_brand text,Quantity INT,Unit_price Real)\"\n",
    "        )\n",
    "cur.execute(\"Insert into items values(1,'Laptop','HP',1500,25000)\")\n",
    "cur.execute(\"Insert into items values(2,'Laptop','Lenovo',1500,35000)\")\n",
    "cur.execute(\"Insert into items values(3,'Laptop','Dell',1000,15000)\")\n",
    "cur.execute(\"Insert into items values(4,'Mobile','Oneplus',100,35000)\")\n",
    "cur.execute(\"Insert into items values(5,'Mobile','Samsung',100,25000)\")\n",
    "res=cur.execute(\"select * from items\")\n",
    "res.fetchall()"
   ]
  },
  {
   "cell_type": "code",
   "execution_count": 68,
   "metadata": {},
   "outputs": [
    {
     "data": {
      "text/plain": [
       "[(1, 'Laptop', 'HP', 1500, 25000.0, 11),\n",
       " (2, 'Laptop', 'Lenovo', 1500, 35000.0, 11),\n",
       " (3, 'Laptop', 'Dell', 1000, 15000.0, 11),\n",
       " (4, 'Mobile', 'Oneplus', 100, 35000.0, 12),\n",
       " (5, 'Mobile', 'Samsung', 100, 25000.0, 12)]"
      ]
     },
     "execution_count": 68,
     "metadata": {},
     "output_type": "execute_result"
    }
   ],
   "source": [
    "#Here obtained realtionship between vendors and items table ,foreign key is vendor id\n",
    "cur.execute(\"Alter table items add column vendors_id INT References vendors(vendor_id)\")\n",
    "cur.execute(\"update items set vendors_id=11 where item_id=1\")\n",
    "cur.execute(\"update items set vendors_id=11 where item_id=2\")\n",
    "cur.execute(\"update items set vendors_id=11 where item_id=3\")\n",
    "cur.execute(\"update items set vendors_id=12 where item_id=4\")\n",
    "cur.execute(\"update items set vendors_id=12 where item_id=5\")\n",
    "res=cur.execute(\"select * from items\")\n",
    "res.fetchall()"
   ]
  },
  {
   "cell_type": "code",
   "execution_count": 78,
   "metadata": {},
   "outputs": [
    {
     "data": {
      "text/plain": [
       "[(1001, 2, 30000.0), (1002, 1, 25000.0)]"
      ]
     },
     "execution_count": 78,
     "metadata": {},
     "output_type": "execute_result"
    }
   ],
   "source": [
    "#orderstable\n",
    "cur.execute(\"Drop table orders\")\n",
    "cur.execute(\"Create table orders(order_id INT primarykey,Quantity_ordered INT,Tot_amount Real)\"\n",
    "        )\n",
    "cur.execute(\"Insert into orders values(1001,2,30000)\")\n",
    "cur.execute(\"Insert into orders values(1002,1,25000)\")\n",
    "\n",
    "res=cur.execute(\"select * from orders\")\n",
    "res.fetchall()\n"
   ]
  },
  {
   "cell_type": "code",
   "execution_count": 79,
   "metadata": {},
   "outputs": [
    {
     "data": {
      "text/plain": [
       "[(1001, 2, 30000.0, 101, 1), (1002, 1, 25000.0, 101, 4)]"
      ]
     },
     "execution_count": 79,
     "metadata": {},
     "output_type": "execute_result"
    }
   ],
   "source": [
    "#here obtained relationship between orders, customers and iteam table, foreign keys customer_id and item_id\n",
    "cur.execute(\"Alter table orders add column c_id INT References customers(customer_id)\")\n",
    "cur.execute(\"Alter table orders add column i_id INT References items(item_id)\")\n",
    "cur.execute(\"update orders set c_id=101 where order_id=1001\")\n",
    "cur.execute(\"update orders set c_id=101 where order_id=1002\")\n",
    "cur.execute(\"update orders set i_id=1 where order_id=1001\")\n",
    "cur.execute(\"update orders set i_id=4 where order_id=1002\")\n",
    "res=cur.execute(\"select * from orders\")\n",
    "res.fetchall()"
   ]
  },
  {
   "cell_type": "code",
   "execution_count": 82,
   "metadata": {},
   "outputs": [],
   "source": [
    "conn.commit()\n"
   ]
  },
  {
   "cell_type": "code",
   "execution_count": 7,
   "metadata": {},
   "outputs": [],
   "source": [
    "#created a function to ease the insertion of customers\n",
    "\n",
    "def registered_customer(customer_id,name,username,password ,address,phone_num):\n",
    "    cur.execute(\"insert into customers values(?,?,?,?,?,?)\",(customer_id,name,username,password ,address,phone_num))\n",
    "    conn.commit()\n",
    "    res=cur.execute(\"select * from customers\")\n",
    "    for i in res:\n",
    "        print(i)"
   ]
  },
  {
   "cell_type": "code",
   "execution_count": 8,
   "metadata": {},
   "outputs": [
    {
     "name": "stdout",
     "output_type": "stream",
     "text": [
      "(100, 'Anita', 'Anita_123', 'Anita@123', 'Dno:123,sunshine apartments, Hyderabad', 9977998800)\n",
      "(101, 'Bunty', 'Bun_123', 'Bun@123', 'Dno:456,Moonlight apartments, Hyderabad', 9000089769)\n",
      "(102, 'Cyathy', 'Cyat_123', 'Cyat@123', 'Dno:111,Divya apartments, Hyderabad', 8897654321)\n",
      "(103, 'deepthy', 'deep_123', 'deep@123', 'Dno:159,kavya apartments, Hyderabad', 8876543211)\n",
      "(100, 'Anita', 'Anita_123', 'Anita@123', 'Dno:123,sunshine apartments, Hyderabad', 9977998800)\n",
      "(101, 'Bunty', 'Bun_123', 'Bun@123', 'Dno:456,Moonlight apartments, Hyderabad', 9000089769)\n",
      "(102, 'Cyathy', 'Cyat_123', 'Cyat@123', 'Dno:111,Divya apartments, Hyderabad', 8897654321)\n",
      "(103, 'deepthy', 'deep_123', 'deep@123', 'Dno:159,kavya apartments, Hyderabad', 8876543211)\n",
      "(104, 'elena', 'elena_123', 'elena@123', 'Dno:159,Lodha apartments, Hyderabad', 9988774324)\n"
     ]
    }
   ],
   "source": [
    "if __name__ == '__main__':\n",
    "    registered_customer(103,'deepthy','deep_123','deep@123','Dno:159,kavya apartments, Hyderabad',8876543211)\n",
    "    registered_customer(104,'elena','elena_123','elena@123','Dno:159,Lodha apartments, Hyderabad',9988774324)\n",
    "    "
   ]
  },
  {
   "cell_type": "code",
   "execution_count": 13,
   "metadata": {},
   "outputs": [],
   "source": [
    "#created a function to ease the insertion of vendors\n",
    "\n",
    "def registered_vendor(vendor_id,store_name,address ,phone_num,customers_id):\n",
    "    cur.execute(\"insert into vendors values(?,?,?,?,?)\",(vendor_id,store_name,address ,phone_num,customers_id))\n",
    "    conn.commit()\n",
    "    res=cur.execute(\"select * from vendors\")\n",
    "    for i in res:\n",
    "        print(i)"
   ]
  },
  {
   "cell_type": "code",
   "execution_count": 15,
   "metadata": {},
   "outputs": [
    {
     "name": "stdout",
     "output_type": "stream",
     "text": [
      "(11, 'Deepak_stores', 'Dno:123,sunshine apartments, Hyderabad', 9977998800, 100)\n",
      "(12, 'Fathima_stores', 'Dno:111,Divya apartments, Hyderabad', 8897654321, 102)\n",
      "(12, 'zeus_stores', 'Dno:159,Lodha apartments, Hyderabad', 8897654321, 104)\n",
      "(13, 'zeus_stores', 'Dno:159,Lodha apartments, Hyderabad', 8897654321, 104)\n"
     ]
    }
   ],
   "source": [
    "if __name__ == '__main__':\n",
    "    registered_vendor(13,'zeus_stores', 'Dno:159,Lodha apartments, Hyderabad',8897654321,104)\n",
    "    "
   ]
  },
  {
   "cell_type": "code",
   "execution_count": 17,
   "metadata": {},
   "outputs": [
    {
     "data": {
      "text/plain": [
       "<sqlite3.Cursor at 0x291d3963570>"
      ]
     },
     "execution_count": 17,
     "metadata": {},
     "output_type": "execute_result"
    }
   ],
   "source": [
    "#performed dml and deleted input due to typo error\n",
    "cur.execute(\"delete from vendors where vendor_id==12 and store_name=='zeus_stores'\")"
   ]
  },
  {
   "cell_type": "code",
   "execution_count": 18,
   "metadata": {},
   "outputs": [
    {
     "data": {
      "text/plain": [
       "[(11,\n",
       "  'Deepak_stores',\n",
       "  'Dno:123,sunshine apartments, Hyderabad',\n",
       "  9977998800,\n",
       "  100),\n",
       " (12,\n",
       "  'Fathima_stores',\n",
       "  'Dno:111,Divya apartments, Hyderabad',\n",
       "  8897654321,\n",
       "  102),\n",
       " (13, 'zeus_stores', 'Dno:159,Lodha apartments, Hyderabad', 8897654321, 104)]"
      ]
     },
     "execution_count": 18,
     "metadata": {},
     "output_type": "execute_result"
    }
   ],
   "source": [
    "res=cur.execute(\"select * from vendors\")\n",
    "res.fetchall()"
   ]
  },
  {
   "cell_type": "code",
   "execution_count": 23,
   "metadata": {},
   "outputs": [],
   "source": [
    "#created a function to ease the insertion of items\n",
    "def registered_items(item_id,Item_name ,Item_brand,Quantity ,Unit_price ,vendors_id):\n",
    "    cur.execute(\"insert into items values(?,?,?,?,?,?)\",(item_id,Item_name ,Item_brand,Quantity ,Unit_price,vendors_id))\n",
    "    conn.commit()\n",
    "    res=cur.execute(\"select * from items\")\n",
    "    for i in res:\n",
    "        print(i)"
   ]
  },
  {
   "cell_type": "code",
   "execution_count": 24,
   "metadata": {},
   "outputs": [
    {
     "name": "stdout",
     "output_type": "stream",
     "text": [
      "(1, 'Laptop', 'HP', 1500, 25000.0, 11)\n",
      "(2, 'Laptop', 'Lenovo', 1500, 35000.0, 11)\n",
      "(3, 'Laptop', 'Dell', 1000, 15000.0, 11)\n",
      "(4, 'Mobile', 'Oneplus', 100, 35000.0, 12)\n",
      "(5, 'Mobile', 'Samsung', 100, 25000.0, 12)\n",
      "(6, 'Mouse', 'HP', 50, 900.0, 13)\n",
      "(6, 'Mouse', 'HP', 50, 900.0, 13)\n"
     ]
    }
   ],
   "source": [
    "if __name__ == '__main__':\n",
    "    registered_items(6,'Mouse','HP',50,900,13)\n",
    "    "
   ]
  },
  {
   "cell_type": "code",
   "execution_count": 26,
   "metadata": {},
   "outputs": [],
   "source": [
    "#created a function to ease the insertion of orders\n",
    "def registered_orders(order_id,Quantity_ordered,Tot_amount,c_id,i_id):\n",
    "    cur.execute(\"insert into orders values(?,?,?,?,?)\",(order_id,Quantity_ordered,Tot_amount,c_id,i_id))\n",
    "    conn.commit()\n",
    "    res=cur.execute(\"select * from orders\")\n",
    "    for i in res:\n",
    "        print(i)"
   ]
  },
  {
   "cell_type": "code",
   "execution_count": 27,
   "metadata": {},
   "outputs": [
    {
     "name": "stdout",
     "output_type": "stream",
     "text": [
      "(1001, 2, 30000.0, 101, 1)\n",
      "(1002, 1, 25000.0, 101, 4)\n",
      "(1003, 1, 900.0, 104, 6)\n"
     ]
    }
   ],
   "source": [
    "if __name__ == '__main__':\n",
    "    registered_orders(1003,1,900,104,6)"
   ]
  },
  {
   "cell_type": "code",
   "execution_count": 54,
   "metadata": {},
   "outputs": [],
   "source": [
    "#we can delete the unavailable items from the item table using this command subject to no availability\n",
    "cur.execute(\"delete from items where item_id==6\")\n",
    "conn.commit()\n",
    "res=cur.execute(\"select* from items\")\n",
    "for i in res:\n",
    "    print(i)"
   ]
  },
  {
   "cell_type": "code",
   "execution_count": 31,
   "metadata": {},
   "outputs": [],
   "source": [
    "conn.close()"
   ]
  },
  {
   "cell_type": "code",
   "execution_count": null,
   "metadata": {},
   "outputs": [],
   "source": []
  },
  {
   "cell_type": "code",
   "execution_count": null,
   "metadata": {},
   "outputs": [],
   "source": []
  },
  {
   "cell_type": "code",
   "execution_count": null,
   "metadata": {},
   "outputs": [],
   "source": []
  }
 ],
 "metadata": {
  "kernelspec": {
   "display_name": "Python 3",
   "language": "python",
   "name": "python3"
  },
  "language_info": {
   "codemirror_mode": {
    "name": "ipython",
    "version": 3
   },
   "file_extension": ".py",
   "mimetype": "text/x-python",
   "name": "python",
   "nbconvert_exporter": "python",
   "pygments_lexer": "ipython3",
   "version": "3.8.5"
  }
 },
 "nbformat": 4,
 "nbformat_minor": 4
}